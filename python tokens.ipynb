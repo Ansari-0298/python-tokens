{
 "cells": [
  {
   "cell_type": "code",
   "execution_count": 3,
   "id": "11646942",
   "metadata": {},
   "outputs": [],
   "source": [
    "#python tokens\n",
    "#python tokens is the smallest component in program\n",
    "#for eg=keywords,identifiers,literals,operators"
   ]
  },
  {
   "cell_type": "code",
   "execution_count": 7,
   "id": "fe3ca769",
   "metadata": {},
   "outputs": [],
   "source": [
    "#keywords are special reserve word\n",
    "# for eg=True,or,while,class,def,tec"
   ]
  },
  {
   "cell_type": "code",
   "execution_count": 8,
   "id": "cb959cd0",
   "metadata": {},
   "outputs": [],
   "source": [
    "# identifiers are names for variables,functions or objects\n",
    "#rules:-\n",
    "#1=no special character expect_(underscore)\n",
    "#2=identifiers are case sensitive\n",
    "#first letter cannot be digit"
   ]
  },
  {
   "cell_type": "code",
   "execution_count": 18,
   "id": "a0269cc1",
   "metadata": {},
   "outputs": [],
   "source": [
    "student=\"5martha\"\n",
    "Student=\"julie\"\n",
    "sTudent=\"sam\"\n"
   ]
  },
  {
   "cell_type": "code",
   "execution_count": 19,
   "id": "68ab8090",
   "metadata": {},
   "outputs": [
    {
     "data": {
      "text/plain": [
       "'5martha'"
      ]
     },
     "execution_count": 19,
     "metadata": {},
     "output_type": "execute_result"
    }
   ],
   "source": [
    "student"
   ]
  },
  {
   "cell_type": "code",
   "execution_count": 11,
   "id": "e20a008c",
   "metadata": {},
   "outputs": [
    {
     "data": {
      "text/plain": [
       "'julie'"
      ]
     },
     "execution_count": 11,
     "metadata": {},
     "output_type": "execute_result"
    }
   ],
   "source": [
    "Student"
   ]
  },
  {
   "cell_type": "code",
   "execution_count": 14,
   "id": "b329f05f",
   "metadata": {},
   "outputs": [
    {
     "data": {
      "text/plain": [
       "'sam'"
      ]
     },
     "execution_count": 14,
     "metadata": {},
     "output_type": "execute_result"
    }
   ],
   "source": [
    "sTudent"
   ]
  },
  {
   "cell_type": "code",
   "execution_count": 15,
   "id": "695835f5",
   "metadata": {},
   "outputs": [],
   "source": [
    "#literals\n",
    "#literals are constant in python"
   ]
  },
  {
   "cell_type": "code",
   "execution_count": 16,
   "id": "1c18cf30",
   "metadata": {},
   "outputs": [],
   "source": [
    "#a=\"hello world\" (hello world is literals)"
   ]
  },
  {
   "cell_type": "code",
   "execution_count": 2,
   "id": "78ebf4a1",
   "metadata": {},
   "outputs": [
    {
     "data": {
      "text/plain": [
       "'hello worlds'"
      ]
     },
     "execution_count": 2,
     "metadata": {},
     "output_type": "execute_result"
    }
   ],
   "source": [
    "a=\"hello worlds\"\n",
    "a"
   ]
  },
  {
   "cell_type": "code",
   "execution_count": 4,
   "id": "3cdd1d3c",
   "metadata": {},
   "outputs": [
    {
     "name": "stdout",
     "output_type": "stream",
     "text": [
      "c is the greatest\n"
     ]
    }
   ],
   "source": [
    "a=25\n",
    "b=56\n",
    "c=96\n",
    "if a>=b & a>=c:\n",
    "    print (\"a is the greatest\")\n",
    "elif (b>=a) & (b>=c):\n",
    "    print(\"b is the greatest\")\n",
    "else:\n",
    "    print(\"c is the greatest\")"
   ]
  },
  {
   "cell_type": "code",
   "execution_count": null,
   "id": "4fdda1b8",
   "metadata": {},
   "outputs": [],
   "source": []
  }
 ],
 "metadata": {
  "kernelspec": {
   "display_name": "Python 3",
   "language": "python",
   "name": "python3"
  },
  "language_info": {
   "codemirror_mode": {
    "name": "ipython",
    "version": 3
   },
   "file_extension": ".py",
   "mimetype": "text/x-python",
   "name": "python",
   "nbconvert_exporter": "python",
   "pygments_lexer": "ipython3",
   "version": "3.8.8"
  }
 },
 "nbformat": 4,
 "nbformat_minor": 5
}
